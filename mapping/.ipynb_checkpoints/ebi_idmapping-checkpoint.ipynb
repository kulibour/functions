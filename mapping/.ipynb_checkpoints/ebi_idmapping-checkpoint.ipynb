{
 "cells": [
  {
   "cell_type": "code",
   "execution_count": 6,
   "id": "9027c529",
   "metadata": {
    "ExecuteTime": {
     "end_time": "2022-12-09T07:15:54.889359Z",
     "start_time": "2022-12-09T07:15:53.165830Z"
    }
   },
   "outputs": [],
   "source": [
    "import pandas as pd\n",
    "import numpy as np\n",
    "import os, re, json, ast\n",
    "from collections import defaultdict,Counter\n",
    "from multiprocessing.dummy import Pool\n",
    "from string import ascii_uppercase\n",
    "from string import ascii_lowercase\n",
    "import subprocess, sys, getopt, time\n",
    "import math,copy\n",
    "import linecache\n",
    "from itertools import combinations\n",
    "import random\n",
    "import matplotlib.pyplot as plt\n",
    "import seaborn as sns\n",
    "from scipy import stats\n",
    "import joblib\n",
    "from joblib import Parallel, delayed\n",
    "from bs4 import BeautifulSoup\n",
    "import warnings\n",
    "warnings.filterwarnings('ignore')"
   ]
  },
  {
   "cell_type": "code",
   "execution_count": 1,
   "id": "e694e926",
   "metadata": {
    "ExecuteTime": {
     "end_time": "2022-12-09T07:15:06.692713Z",
     "start_time": "2022-12-09T07:15:06.685481Z"
    }
   },
   "outputs": [],
   "source": [
    "def get_uniprot_infos(unp_id):\n",
    "    # unp_id = 'Q13131'\n",
    "    ###获取uniprot id的序列信息,这里只提取了部分\n",
    "    unp_seq_response = requests.get('https://www.ebi.ac.uk/proteins/api/proteins/%s'%(unp_id))\n",
    "    unp_raw_result = json.loads(unp_seq_response.text)\n",
    "    unp_id = unp_raw_result['accession']\n",
    "    entry = unp_raw_result['id']\n",
    "    sequence = unp_raw_result['sequence']['sequence']\n",
    "    uniprot_infos = pd.DataFrame({'unp_id':[unp_id],'entry':[entry],'sequence':[sequence]})\n",
    "    return uniprot_infos"
   ]
  },
  {
   "cell_type": "code",
   "execution_count": 2,
   "id": "d830f3e9",
   "metadata": {
    "ExecuteTime": {
     "end_time": "2022-12-09T07:15:06.699742Z",
     "start_time": "2022-12-09T07:15:06.694463Z"
    }
   },
   "outputs": [],
   "source": [
    "def map_uniprot_to_pdb(unp_id):\n",
    "    # unp_id = 'Q13131'##Q2M2I8\n",
    "    unp2pdb_response = requests.get('https://www.ebi.ac.uk/pdbe/api/mappings/all_isoforms/%s'%(unp_id))\n",
    "    unp2pdb_raw_result = json.loads(unp2pdb_response.text)[unp_id]['PDB']\n",
    "    unp2pdb_dict = {'pdb_id':[],'entity_id':[],'chain_id':[],'is_canonical':[],'identity':[],'unp_range':[],'pdb_range':[]}\n",
    "    for pdb in list(unp2pdb_raw_result):\n",
    "        for pdb_data in unp2pdb_raw_result[pdb]:###insdel\n",
    "            unp2pdb_dict['pdb_id'].append(pdb)\n",
    "            for key in ['entity_id','chain_id','is_canonical','identity']:\n",
    "                unp2pdb_dict[key].append(pdb_data[key])\n",
    "            unp_range = [pdb_data['unp_start'],pdb_data['unp_end']]\n",
    "            pdb_range = [pdb_data['start']['residue_number'],pdb_data['end']['residue_number']]\n",
    "            unp2pdb_dict['unp_range'].append(unp_range)\n",
    "            unp2pdb_dict['pdb_range'].append(pdb_range)\n",
    "    unp2pdb_result = pd.DataFrame(unp2pdb_dict)\n",
    "    unp2pdb_result['unp_id'] = unp_id\n",
    "    unp2pdb_result['len_unp_range'] = unp2pdb_result.apply(lambda x: x['unp_range'][1]-x['unp_range'][0],axis=1)\n",
    "    unp2pdb_result['len_pdb_range'] = unp2pdb_result.apply(lambda x: x['pdb_range'][1]-x['pdb_range'][0],axis=1)\n",
    "    return unp2pdb_result"
   ]
  },
  {
   "cell_type": "code",
   "execution_count": 3,
   "id": "6e43d732",
   "metadata": {
    "ExecuteTime": {
     "end_time": "2022-12-09T07:15:06.707021Z",
     "start_time": "2022-12-09T07:15:06.701618Z"
    }
   },
   "outputs": [],
   "source": [
    "def get_pdb_summary(pdb_id):\n",
    "    # pdb_id = '6c9j'\n",
    "    pdb_summary_response = requests.get('https://www.ebi.ac.uk/pdbe/api/pdb/entry/summary/%s'%(pdb_id))\n",
    "    summary_raw_result = json.loads(pdb_summary_response.text)\n",
    "    summary_need = {'title':[],'experimental_method':[],'number_of_entities':[],'assemblies':[]}\n",
    "    for summary_data in summary_raw_result[pdb_id]:\n",
    "        for key in list(summary_need):\n",
    "            if key in summary_data:\n",
    "                summary_need[key].append(summary_data[key])\n",
    "            else:\n",
    "                summary_need[key].append(np.nan)\n",
    "    pdb_summary = pd.DataFrame(summary_need).explode('experimental_method')\n",
    "    pdb_summary['pdb_id'] = pdb_id\n",
    "    if pdb_summary.shape[0]!=1:\n",
    "        print('This pdb_id has multiple summary, need check.')\n",
    "    return pdb_summary"
   ]
  },
  {
   "cell_type": "code",
   "execution_count": 4,
   "id": "fc5c630a",
   "metadata": {
    "ExecuteTime": {
     "end_time": "2022-12-09T07:15:06.713077Z",
     "start_time": "2022-12-09T07:15:06.708665Z"
    }
   },
   "outputs": [],
   "source": [
    "def get_pdb_molecules(pdb_id):\n",
    "    pdb_molecule_response = requests.get('https://www.ebi.ac.uk/pdbe/api/pdb/entry/molecules/%s'%(pdb_id))\n",
    "    molecule_raw_result = json.loads(pdb_molecule_response.text)\n",
    "    ###注意此处仅仅获取了多肽链的信息，小分子、核酸信息不全，没有例子，不知道提哪些\n",
    "    molecule_need = {'entity_id':[],'molecule_type':[],'mutation_flag':[],'molecule_name':[],'sequence':[],'pdb_sequence':[],'in_chains':[],\n",
    "                     'pdb_sequence_indices_with_multiple_residues':[],'in_struct_asyms':[],'gene_name':[],'chem_comp_ids':[]}\n",
    "    for entity_data in molecule_raw_result[pdb_id]:\n",
    "        for key in molecule_need:\n",
    "            if key in entity_data:\n",
    "                molecule_need[key].append(entity_data[key])\n",
    "            else:\n",
    "                molecule_need[key].append(np.nan)\n",
    "    pdb_molecule = pd.DataFrame(molecule_need).rename(columns={'sequence':'raw_pdb_sequence','pdb_sequence':'real_pdb_sequence'})\n",
    "    pdb_molecule['pdb_id'] = pdb_id\n",
    "    pdb_molecules = pdb_molecule.explode(['in_chains','in_struct_asyms']).rename(columns={'in_chains':'chain_id',\n",
    "                                                                                          'in_struct_asyms':'struct_asym_id'})\n",
    "    return pdb_molecules"
   ]
  },
  {
   "cell_type": "code",
   "execution_count": 5,
   "id": "4248edd9",
   "metadata": {
    "ExecuteTime": {
     "end_time": "2022-12-09T07:15:06.718271Z",
     "start_time": "2022-12-09T07:15:06.714863Z"
    }
   },
   "outputs": [],
   "source": [
    "def get_pdb_residues(pdb_id):\n",
    "    # pdb_id = '6c9j'\n",
    "    pdb_residues_response = requests.get('https://www.ebi.ac.uk/pdbe/api/pdb/entry/residue_listing/%s'%(pdb_id))\n",
    "    residues_raw_result = json.loads(pdb_residues_response.text)\n",
    "    chain_residues_list = []\n",
    "    for entity_data in residues_raw_result[pdb_id]['molecules']:\n",
    "        for chain_data in entity_data['chains']:\n",
    "            chain_residues = pd.DataFrame(chain_data['residues'])\n",
    "            chain_residues['struct_asym_id'] = chain_data['struct_asym_id']\n",
    "            chain_residues['chain_id'] = chain_data['chain_id']\n",
    "            chain_residues_list.append(chain_residues)\n",
    "    pdb_residues = pd.concat(chain_residues_list,axis=0).reset_index(drop=1)\n",
    "    pdb_residues['pdb_id'] = pdb_id\n",
    "    return pdb_residues"
   ]
  },
  {
   "cell_type": "code",
   "execution_count": null,
   "id": "f30ed7c3",
   "metadata": {},
   "outputs": [],
   "source": []
  }
 ],
 "metadata": {
  "kernelspec": {
   "display_name": "Python 3 (ipykernel)",
   "language": "python",
   "name": "python3"
  },
  "language_info": {
   "codemirror_mode": {
    "name": "ipython",
    "version": 3
   },
   "file_extension": ".py",
   "mimetype": "text/x-python",
   "name": "python",
   "nbconvert_exporter": "python",
   "pygments_lexer": "ipython3",
   "version": "3.9.13"
  },
  "toc": {
   "base_numbering": 1,
   "nav_menu": {},
   "number_sections": true,
   "sideBar": true,
   "skip_h1_title": false,
   "title_cell": "Table of Contents",
   "title_sidebar": "Contents",
   "toc_cell": false,
   "toc_position": {},
   "toc_section_display": true,
   "toc_window_display": false
  }
 },
 "nbformat": 4,
 "nbformat_minor": 5
}
