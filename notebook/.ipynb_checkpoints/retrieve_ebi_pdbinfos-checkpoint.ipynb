{
 "cells": [
  {
   "cell_type": "code",
   "execution_count": 1,
   "id": "e4659358",
   "metadata": {
    "ExecuteTime": {
     "end_time": "2022-12-09T07:50:38.895099Z",
     "start_time": "2022-12-09T07:50:37.264577Z"
    }
   },
   "outputs": [],
   "source": [
    "import pandas as pd\n",
    "import numpy as np\n",
    "import os, re, json, ast\n",
    "from collections import defaultdict,Counter\n",
    "from multiprocessing.dummy import Pool\n",
    "from string import ascii_uppercase\n",
    "from string import ascii_lowercase\n",
    "import subprocess, sys, getopt, time\n",
    "import math,copy\n",
    "import linecache\n",
    "from itertools import combinations\n",
    "import random\n",
    "import matplotlib.pyplot as plt\n",
    "import seaborn as sns\n",
    "from scipy import stats\n",
    "import joblib, requests\n",
    "from joblib import Parallel, delayed\n",
    "from bs4 import BeautifulSoup\n",
    "import argparse\n",
    "import warnings\n",
    "warnings.filterwarnings('ignore')"
   ]
  },
  {
   "cell_type": "code",
   "execution_count": null,
   "id": "4ac46ec4",
   "metadata": {},
   "outputs": [],
   "source": [
    "parser = argparse.ArgumentParser(description='This script still needs to be improved.(Jing Xin)')\n",
    "parser.add_argument('--input', '-i', type=str, required=True, help='PDB ID, like: 1a2k')\n",
    "parser.add_argument('--path', '-d', type=str, default='/data/jiangxin/tools/mapping/pdb_infos/', required=False, help='The path to save results')\n",
    "\n",
    "args = parser.parse_args()"
   ]
  },
  {
   "cell_type": "code",
   "execution_count": 3,
   "id": "f427bbbe",
   "metadata": {
    "ExecuteTime": {
     "end_time": "2022-12-09T07:15:06.707021Z",
     "start_time": "2022-12-09T07:15:06.701618Z"
    }
   },
   "outputs": [],
   "source": [
    "def get_pdb_summary(pdb_id):\n",
    "    # pdb_id = '6c9j'\n",
    "    pdb_summary_response = requests.get('https://www.ebi.ac.uk/pdbe/api/pdb/entry/summary/%s'%(pdb_id))\n",
    "    summary_raw_result = json.loads(pdb_summary_response.text)\n",
    "    summary_need = {'title':[],'experimental_method':[],'number_of_entities':[],'assemblies':[]}\n",
    "    for summary_data in summary_raw_result[pdb_id]:\n",
    "        for key in list(summary_need):\n",
    "            if key in summary_data:\n",
    "                summary_need[key].append(summary_data[key])\n",
    "            else:\n",
    "                summary_need[key].append(np.nan)\n",
    "    pdb_summary = pd.DataFrame(summary_need).explode('experimental_method')\n",
    "    pdb_summary['pdb_id'] = pdb_id\n",
    "    if pdb_summary.shape[0]!=1:\n",
    "        print('This pdb_id has multiple summary, need check: %s'%(pdb_id))\n",
    "    return pdb_summary"
   ]
  },
  {
   "cell_type": "code",
   "execution_count": 4,
   "id": "a1d97ea0",
   "metadata": {
    "ExecuteTime": {
     "end_time": "2022-12-09T07:15:06.713077Z",
     "start_time": "2022-12-09T07:15:06.708665Z"
    }
   },
   "outputs": [],
   "source": [
    "def get_pdb_molecules(pdb_id):\n",
    "    pdb_molecule_response = requests.get('https://www.ebi.ac.uk/pdbe/api/pdb/entry/molecules/%s'%(pdb_id))\n",
    "    molecule_raw_result = json.loads(pdb_molecule_response.text)\n",
    "    ###注意此处仅仅获取了多肽链的信息，小分子、核酸信息不全，没有例子，不知道提哪些\n",
    "    molecule_need = {'entity_id':[],'molecule_type':[],'mutation_flag':[],'molecule_name':[],'sequence':[],'pdb_sequence':[],'in_chains':[],\n",
    "                     'pdb_sequence_indices_with_multiple_residues':[],'in_struct_asyms':[],'gene_name':[],'chem_comp_ids':[]}\n",
    "    for entity_data in molecule_raw_result[pdb_id]:\n",
    "        for key in molecule_need:\n",
    "            if key in entity_data:\n",
    "                molecule_need[key].append(entity_data[key])\n",
    "            else:\n",
    "                molecule_need[key].append(np.nan)\n",
    "    pdb_molecule = pd.DataFrame(molecule_need).rename(columns={'sequence':'raw_pdb_sequence','pdb_sequence':'real_pdb_sequence'})\n",
    "    pdb_molecule['pdb_id'] = pdb_id\n",
    "    pdb_molecules = pdb_molecule.explode(['in_chains','in_struct_asyms']).rename(columns={'in_chains':'chain_id',\n",
    "                                                                                          'in_struct_asyms':'struct_asym_id'})\n",
    "    return pdb_molecules"
   ]
  },
  {
   "cell_type": "code",
   "execution_count": 5,
   "id": "61c68bec",
   "metadata": {
    "ExecuteTime": {
     "end_time": "2022-12-09T07:15:06.718271Z",
     "start_time": "2022-12-09T07:15:06.714863Z"
    }
   },
   "outputs": [],
   "source": [
    "def get_pdb_residues(pdb_id):\n",
    "    # pdb_id = '6c9j'\n",
    "    pdb_residues_response = requests.get('https://www.ebi.ac.uk/pdbe/api/pdb/entry/residue_listing/%s'%(pdb_id))\n",
    "    residues_raw_result = json.loads(pdb_residues_response.text)\n",
    "    chain_residues_list = []\n",
    "    for entity_data in residues_raw_result[pdb_id]['molecules']:\n",
    "        for chain_data in entity_data['chains']:\n",
    "            chain_residues = pd.DataFrame(chain_data['residues'])\n",
    "            chain_residues['struct_asym_id'] = chain_data['struct_asym_id']\n",
    "            chain_residues['chain_id'] = chain_data['chain_id']\n",
    "            chain_residues_list.append(chain_residues)\n",
    "    pdb_residues = pd.concat(chain_residues_list,axis=0).reset_index(drop=1)\n",
    "    pdb_residues['pdb_id'] = pdb_id\n",
    "    return pdb_residues"
   ]
  },
  {
   "cell_type": "code",
   "execution_count": null,
   "id": "38265901",
   "metadata": {},
   "outputs": [],
   "source": [
    "pdb_id = args.input\n",
    "save_dir = args.path\n",
    "pdb_summary = get_pdb_summary(pdb_id)\n",
    "pdb_molecules = get_pdb_molecules(pdb_id)\n",
    "pdb_residues = get_pdb_residues(pdb_id)\n",
    "pdb_summary.to_csv(save_dir+'pdb_summary_'+pdb_id,sep='\\t',index=0)\n",
    "pdb_molecules.to_csv(save_dir+'pdb_molecules_'+pdb_id,sep='\\t',index=0)\n",
    "pdb_residues.to_csv(save_dir+'pdb_residues_'+pdb_id,sep='\\t',index=0)\n",
    "time.sleep(5)###别太频繁，小心被封"
   ]
  },
  {
   "cell_type": "code",
   "execution_count": null,
   "id": "222bc239",
   "metadata": {},
   "outputs": [],
   "source": []
  }
 ],
 "metadata": {
  "kernelspec": {
   "display_name": "Python 3 (ipykernel)",
   "language": "python",
   "name": "python3"
  },
  "language_info": {
   "codemirror_mode": {
    "name": "ipython",
    "version": 3
   },
   "file_extension": ".py",
   "mimetype": "text/x-python",
   "name": "python",
   "nbconvert_exporter": "python",
   "pygments_lexer": "ipython3",
   "version": "3.9.13"
  },
  "toc": {
   "base_numbering": 1,
   "nav_menu": {},
   "number_sections": true,
   "sideBar": true,
   "skip_h1_title": false,
   "title_cell": "Table of Contents",
   "title_sidebar": "Contents",
   "toc_cell": false,
   "toc_position": {},
   "toc_section_display": true,
   "toc_window_display": false
  }
 },
 "nbformat": 4,
 "nbformat_minor": 5
}
