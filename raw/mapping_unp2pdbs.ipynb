{
 "cells": [
  {
   "cell_type": "code",
   "execution_count": 3,
   "id": "9ce4fbc2",
   "metadata": {
    "ExecuteTime": {
     "end_time": "2022-12-09T07:27:07.800865Z",
     "start_time": "2022-12-09T07:27:07.796760Z"
    }
   },
   "outputs": [],
   "source": [
    "import pandas as pd\n",
    "import numpy as np\n",
    "import os, re, json, ast\n",
    "from collections import defaultdict,Counter\n",
    "from multiprocessing.dummy import Pool\n",
    "from string import ascii_uppercase\n",
    "from string import ascii_lowercase\n",
    "import subprocess, sys, getopt, time\n",
    "import math,copy\n",
    "import linecache\n",
    "from itertools import combinations\n",
    "import random\n",
    "import matplotlib.pyplot as plt\n",
    "import seaborn as sns\n",
    "from scipy import stats\n",
    "import joblib, requests\n",
    "from joblib import Parallel, delayed\n",
    "from bs4 import BeautifulSoup\n",
    "import argparse\n",
    "import warnings\n",
    "warnings.filterwarnings('ignore')"
   ]
  },
  {
   "cell_type": "code",
   "execution_count": 9,
   "id": "75c7c8b0",
   "metadata": {
    "ExecuteTime": {
     "end_time": "2022-12-09T07:37:07.985904Z",
     "start_time": "2022-12-09T07:37:07.983565Z"
    }
   },
   "outputs": [],
   "source": [
    "parser = argparse.ArgumentParser(description='This script still needs to be improved.(Jing Xin)')\n",
    "parser.add_argument('--input', '-i', type=str, required=True, help='UniProt ID, like: P00519')\n",
    "parser.add_argument('--path', '-d', type=str, default='/data/jiangxin/tools/mapping/unp2pdbs/', required=False, help='The path to save results')\n",
    "\n",
    "args = parser.parse_args()"
   ]
  },
  {
   "cell_type": "code",
   "execution_count": 7,
   "id": "4aa40f0f",
   "metadata": {
    "ExecuteTime": {
     "end_time": "2022-12-09T07:27:31.904265Z",
     "start_time": "2022-12-09T07:27:31.900165Z"
    }
   },
   "outputs": [],
   "source": [
    "def get_uniprot_infos(unp_id):\n",
    "    # unp_id = 'Q13131'\n",
    "    ###获取uniprot id的序列信息,这里只提取了部分\n",
    "    unp_seq_response = requests.get('https://www.ebi.ac.uk/proteins/api/proteins/%s'%(unp_id))\n",
    "    unp_raw_result = json.loads(unp_seq_response.text)\n",
    "    unp_id = unp_raw_result['accession']\n",
    "    entry = unp_raw_result['id']\n",
    "    sequence = unp_raw_result['sequence']['sequence']\n",
    "    uniprot_infos = pd.DataFrame({'unp_id':[unp_id],'entry':[entry],'sequence':[sequence]})\n",
    "    return uniprot_infos"
   ]
  },
  {
   "cell_type": "code",
   "execution_count": 1,
   "id": "eec33792",
   "metadata": {
    "ExecuteTime": {
     "end_time": "2022-12-09T08:32:00.580360Z",
     "start_time": "2022-12-09T08:32:00.549938Z"
    }
   },
   "outputs": [],
   "source": [
    "def map_uniprot_to_pdb(unp_id):\n",
    "    # unp_id = 'Q13131'##Q2M2I8\n",
    "    unp2pdbs_response = requests.get('https://www.ebi.ac.uk/pdbe/api/mappings/all_isoforms/%s'%(unp_id))\n",
    "    unp2pdbs_raw_result = json.loads(unp2pdbs_response.text)[unp_id]['PDB']\n",
    "    unp2pdbs_dict = {'pdb_id':[],'entity_id':[],'chain_id':[],'is_canonical':[],'identity':[],'unp_range':[],'pdb_range':[]}\n",
    "    for pdb in list(unp2pdbs_raw_result):\n",
    "        for pdb_data in unp2pdbs_raw_result[pdb]:###insdel\n",
    "            unp2pdbs_dict['pdb_id'].append(pdb)\n",
    "            for key in ['entity_id','chain_id','is_canonical','identity']:\n",
    "                unp2pdbs_dict[key].append(pdb_data[key])\n",
    "            unp_range = [pdb_data['unp_start'],pdb_data['unp_end']]\n",
    "            pdb_range = [pdb_data['start']['residue_number'],pdb_data['end']['residue_number']]\n",
    "            unp2pdbs_dict['unp_range'].append(unp_range)\n",
    "            unp2pdbs_dict['pdb_range'].append(pdb_range)\n",
    "    unp2pdbs_result = pd.DataFrame(unp2pdbs_dict)\n",
    "    unp2pdbs_result['unp_id'] = unp_id\n",
    "    unp2pdbs_result['len_unp_range'] = unp2pdbs_result.apply(lambda x: x['unp_range'][1]-x['unp_range'][0]+1,axis=1)\n",
    "    unp2pdbs_result['len_pdb_range'] = unp2pdbs_result.apply(lambda x: x['pdb_range'][1]-x['pdb_range'][0]+1,axis=1)\n",
    "    return unp2pdbs_result"
   ]
  },
  {
   "cell_type": "code",
   "execution_count": null,
   "id": "9c65f3a1",
   "metadata": {},
   "outputs": [],
   "source": [
    "unp_id = args.input\n",
    "save_dir = args.path\n",
    "uniprot_infos = get_uniprot_infos(unp_id)\n",
    "unp2pdbs_result = map_uniprot_to_pdb(unp_id)\n",
    "uniprot_infos.to_csv(save_dir+'unp_infos_'+unp_id,sep='\\t',index=0)\n",
    "unp2pdbs_result.to_csv(save_dir+'unp2pdbs_'+unp_id,sep='\\t',index=0)\n",
    "time.sleep(5)###别太频繁，小心被封"
   ]
  },
  {
   "cell_type": "code",
   "execution_count": null,
   "id": "d796d1c8",
   "metadata": {},
   "outputs": [],
   "source": []
  }
 ],
 "metadata": {
  "kernelspec": {
   "display_name": "Python 3 (ipykernel)",
   "language": "python",
   "name": "python3"
  },
  "language_info": {
   "codemirror_mode": {
    "name": "ipython",
    "version": 3
   },
   "file_extension": ".py",
   "mimetype": "text/x-python",
   "name": "python",
   "nbconvert_exporter": "python",
   "pygments_lexer": "ipython3",
   "version": "3.9.13"
  },
  "toc": {
   "base_numbering": 1,
   "nav_menu": {},
   "number_sections": true,
   "sideBar": true,
   "skip_h1_title": false,
   "title_cell": "Table of Contents",
   "title_sidebar": "Contents",
   "toc_cell": false,
   "toc_position": {},
   "toc_section_display": true,
   "toc_window_display": false
  }
 },
 "nbformat": 4,
 "nbformat_minor": 5
}
